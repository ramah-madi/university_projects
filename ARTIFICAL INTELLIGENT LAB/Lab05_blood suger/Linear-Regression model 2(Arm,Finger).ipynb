{
 "cells": [
  {
   "cell_type": "code",
   "execution_count": 16,
   "id": "8e4aa254",
   "metadata": {},
   "outputs": [],
   "source": [
    "import pandas as pd\n",
    "import numpy as np\n",
    "import matplotlib.pyplot as plt\n",
    "import seaborn as sns"
   ]
  },
  {
   "cell_type": "code",
   "execution_count": 17,
   "id": "440a2e3e",
   "metadata": {},
   "outputs": [
    {
     "data": {
      "text/html": [
       "<div>\n",
       "<style scoped>\n",
       "    .dataframe tbody tr th:only-of-type {\n",
       "        vertical-align: middle;\n",
       "    }\n",
       "\n",
       "    .dataframe tbody tr th {\n",
       "        vertical-align: top;\n",
       "    }\n",
       "\n",
       "    .dataframe thead th {\n",
       "        text-align: right;\n",
       "    }\n",
       "</style>\n",
       "<table border=\"1\" class=\"dataframe\">\n",
       "  <thead>\n",
       "    <tr style=\"text-align: right;\">\n",
       "      <th></th>\n",
       "      <th>Sex</th>\n",
       "      <th>Age</th>\n",
       "      <th>Finger</th>\n",
       "      <th>Earlobe</th>\n",
       "      <th>Arm</th>\n",
       "    </tr>\n",
       "  </thead>\n",
       "  <tbody>\n",
       "    <tr>\n",
       "      <th>0</th>\n",
       "      <td>Male</td>\n",
       "      <td>59</td>\n",
       "      <td>100</td>\n",
       "      <td>94</td>\n",
       "      <td>109.8</td>\n",
       "    </tr>\n",
       "    <tr>\n",
       "      <th>1</th>\n",
       "      <td>Male</td>\n",
       "      <td>55</td>\n",
       "      <td>293</td>\n",
       "      <td>277</td>\n",
       "      <td>302.4</td>\n",
       "    </tr>\n",
       "    <tr>\n",
       "      <th>2</th>\n",
       "      <td>Male</td>\n",
       "      <td>39</td>\n",
       "      <td>104</td>\n",
       "      <td>97</td>\n",
       "      <td>106.2</td>\n",
       "    </tr>\n",
       "    <tr>\n",
       "      <th>3</th>\n",
       "      <td>Male</td>\n",
       "      <td>65</td>\n",
       "      <td>122</td>\n",
       "      <td>119</td>\n",
       "      <td>127.8</td>\n",
       "    </tr>\n",
       "    <tr>\n",
       "      <th>4</th>\n",
       "      <td>Male</td>\n",
       "      <td>54</td>\n",
       "      <td>94</td>\n",
       "      <td>96</td>\n",
       "      <td>100.8</td>\n",
       "    </tr>\n",
       "    <tr>\n",
       "      <th>5</th>\n",
       "      <td>Female</td>\n",
       "      <td>50</td>\n",
       "      <td>118</td>\n",
       "      <td>120</td>\n",
       "      <td>127.8</td>\n",
       "    </tr>\n",
       "    <tr>\n",
       "      <th>6</th>\n",
       "      <td>Male</td>\n",
       "      <td>43</td>\n",
       "      <td>84</td>\n",
       "      <td>83</td>\n",
       "      <td>81.0</td>\n",
       "    </tr>\n",
       "    <tr>\n",
       "      <th>7</th>\n",
       "      <td>Male</td>\n",
       "      <td>63</td>\n",
       "      <td>84</td>\n",
       "      <td>81</td>\n",
       "      <td>97.2</td>\n",
       "    </tr>\n",
       "    <tr>\n",
       "      <th>8</th>\n",
       "      <td>Male</td>\n",
       "      <td>63</td>\n",
       "      <td>79</td>\n",
       "      <td>78</td>\n",
       "      <td>93.6</td>\n",
       "    </tr>\n",
       "    <tr>\n",
       "      <th>9</th>\n",
       "      <td>Male</td>\n",
       "      <td>52</td>\n",
       "      <td>100</td>\n",
       "      <td>115</td>\n",
       "      <td>118.8</td>\n",
       "    </tr>\n",
       "  </tbody>\n",
       "</table>\n",
       "</div>"
      ],
      "text/plain": [
       "      Sex  Age  Finger  Earlobe    Arm\n",
       "0    Male   59     100       94  109.8\n",
       "1    Male   55     293      277  302.4\n",
       "2    Male   39     104       97  106.2\n",
       "3    Male   65     122      119  127.8\n",
       "4    Male   54      94       96  100.8\n",
       "5  Female   50     118      120  127.8\n",
       "6    Male   43      84       83   81.0\n",
       "7    Male   63      84       81   97.2\n",
       "8    Male   63      79       78   93.6\n",
       "9    Male   52     100      115  118.8"
      ]
     },
     "execution_count": 17,
     "metadata": {},
     "output_type": "execute_result"
    }
   ],
   "source": [
    "data=pd.read_csv('Earloobe_data_Copy.csv')\n",
    "data.head(10)"
   ]
  },
  {
   "cell_type": "code",
   "execution_count": 18,
   "id": "5b8e25c7",
   "metadata": {},
   "outputs": [
    {
     "data": {
      "text/html": [
       "<div>\n",
       "<style scoped>\n",
       "    .dataframe tbody tr th:only-of-type {\n",
       "        vertical-align: middle;\n",
       "    }\n",
       "\n",
       "    .dataframe tbody tr th {\n",
       "        vertical-align: top;\n",
       "    }\n",
       "\n",
       "    .dataframe thead th {\n",
       "        text-align: right;\n",
       "    }\n",
       "</style>\n",
       "<table border=\"1\" class=\"dataframe\">\n",
       "  <thead>\n",
       "    <tr style=\"text-align: right;\">\n",
       "      <th></th>\n",
       "      <th>Sex</th>\n",
       "      <th>Age</th>\n",
       "      <th>Finger</th>\n",
       "      <th>Earlobe</th>\n",
       "      <th>Arm</th>\n",
       "    </tr>\n",
       "  </thead>\n",
       "  <tbody>\n",
       "    <tr>\n",
       "      <th>0</th>\n",
       "      <td>1</td>\n",
       "      <td>59</td>\n",
       "      <td>100</td>\n",
       "      <td>94</td>\n",
       "      <td>109.8</td>\n",
       "    </tr>\n",
       "    <tr>\n",
       "      <th>1</th>\n",
       "      <td>1</td>\n",
       "      <td>55</td>\n",
       "      <td>293</td>\n",
       "      <td>277</td>\n",
       "      <td>302.4</td>\n",
       "    </tr>\n",
       "    <tr>\n",
       "      <th>2</th>\n",
       "      <td>1</td>\n",
       "      <td>39</td>\n",
       "      <td>104</td>\n",
       "      <td>97</td>\n",
       "      <td>106.2</td>\n",
       "    </tr>\n",
       "    <tr>\n",
       "      <th>3</th>\n",
       "      <td>1</td>\n",
       "      <td>65</td>\n",
       "      <td>122</td>\n",
       "      <td>119</td>\n",
       "      <td>127.8</td>\n",
       "    </tr>\n",
       "    <tr>\n",
       "      <th>4</th>\n",
       "      <td>1</td>\n",
       "      <td>54</td>\n",
       "      <td>94</td>\n",
       "      <td>96</td>\n",
       "      <td>100.8</td>\n",
       "    </tr>\n",
       "    <tr>\n",
       "      <th>5</th>\n",
       "      <td>0</td>\n",
       "      <td>50</td>\n",
       "      <td>118</td>\n",
       "      <td>120</td>\n",
       "      <td>127.8</td>\n",
       "    </tr>\n",
       "    <tr>\n",
       "      <th>6</th>\n",
       "      <td>1</td>\n",
       "      <td>43</td>\n",
       "      <td>84</td>\n",
       "      <td>83</td>\n",
       "      <td>81.0</td>\n",
       "    </tr>\n",
       "    <tr>\n",
       "      <th>7</th>\n",
       "      <td>1</td>\n",
       "      <td>63</td>\n",
       "      <td>84</td>\n",
       "      <td>81</td>\n",
       "      <td>97.2</td>\n",
       "    </tr>\n",
       "    <tr>\n",
       "      <th>8</th>\n",
       "      <td>1</td>\n",
       "      <td>63</td>\n",
       "      <td>79</td>\n",
       "      <td>78</td>\n",
       "      <td>93.6</td>\n",
       "    </tr>\n",
       "    <tr>\n",
       "      <th>9</th>\n",
       "      <td>1</td>\n",
       "      <td>52</td>\n",
       "      <td>100</td>\n",
       "      <td>115</td>\n",
       "      <td>118.8</td>\n",
       "    </tr>\n",
       "  </tbody>\n",
       "</table>\n",
       "</div>"
      ],
      "text/plain": [
       "   Sex  Age  Finger  Earlobe    Arm\n",
       "0    1   59     100       94  109.8\n",
       "1    1   55     293      277  302.4\n",
       "2    1   39     104       97  106.2\n",
       "3    1   65     122      119  127.8\n",
       "4    1   54      94       96  100.8\n",
       "5    0   50     118      120  127.8\n",
       "6    1   43      84       83   81.0\n",
       "7    1   63      84       81   97.2\n",
       "8    1   63      79       78   93.6\n",
       "9    1   52     100      115  118.8"
      ]
     },
     "execution_count": 18,
     "metadata": {},
     "output_type": "execute_result"
    }
   ],
   "source": [
    "#convert the sex from categorical data to numerical data by using lambda \n",
    "data['Sex']= data['Sex'].apply(lambda x: 1 if x == 'Male' else (0 if x ==\"Female\" else np.nan))\n",
    "data.head(10)"
   ]
  },
  {
   "cell_type": "code",
   "execution_count": 19,
   "id": "679c2f83",
   "metadata": {},
   "outputs": [
    {
     "data": {
      "text/plain": [
       "<matplotlib.collections.PathCollection at 0x2ad7a8b62b0>"
      ]
     },
     "execution_count": 19,
     "metadata": {},
     "output_type": "execute_result"
    },
    {
     "data": {
      "image/png": "[encoded data removed]",
      "text/plain": [
       "<Figure size 432x288 with 1 Axes>"
      ]
     },
     "metadata": {
      "needs_background": "light"
     },
     "output_type": "display_data"
    }
   ],
   "source": [
    "# PLotting the parameters\n",
    "plt.xlabel(\"Finger\")\n",
    "plt.ylabel(\"Arm\")\n",
    "plt.scatter(data['Finger'],data['Arm'],s=50, c=data.Finger, cmap='RdYlBu')"
   ]
  },
  {
   "cell_type": "code",
   "execution_count": 20,
   "id": "6bd251d1",
   "metadata": {},
   "outputs": [],
   "source": [
    "#split data\n",
    "X=data.drop(['Arm','Earlobe'],axis=1).values\n",
    "\n",
    "y=data['Arm'].values"
   ]
  },
  {
   "cell_type": "code",
   "execution_count": 21,
   "id": "d1505ed1",
   "metadata": {},
   "outputs": [
    {
     "data": {
      "text/html": [
       "<div>\n",
       "<style scoped>\n",
       "    .dataframe tbody tr th:only-of-type {\n",
       "        vertical-align: middle;\n",
       "    }\n",
       "\n",
       "    .dataframe tbody tr th {\n",
       "        vertical-align: top;\n",
       "    }\n",
       "\n",
       "    .dataframe thead th {\n",
       "        text-align: right;\n",
       "    }\n",
       "</style>\n",
       "<table border=\"1\" class=\"dataframe\">\n",
       "  <thead>\n",
       "    <tr style=\"text-align: right;\">\n",
       "      <th></th>\n",
       "      <th>Sex</th>\n",
       "      <th>Age</th>\n",
       "      <th>Finger</th>\n",
       "      <th>Earlobe</th>\n",
       "      <th>Arm</th>\n",
       "    </tr>\n",
       "  </thead>\n",
       "  <tbody>\n",
       "    <tr>\n",
       "      <th>count</th>\n",
       "      <td>50.000000</td>\n",
       "      <td>50.000000</td>\n",
       "      <td>50.000000</td>\n",
       "      <td>50.000000</td>\n",
       "      <td>50.00000</td>\n",
       "    </tr>\n",
       "    <tr>\n",
       "      <th>mean</th>\n",
       "      <td>0.540000</td>\n",
       "      <td>49.740000</td>\n",
       "      <td>135.200000</td>\n",
       "      <td>131.920000</td>\n",
       "      <td>135.61200</td>\n",
       "    </tr>\n",
       "    <tr>\n",
       "      <th>std</th>\n",
       "      <td>0.503457</td>\n",
       "      <td>14.131756</td>\n",
       "      <td>65.487185</td>\n",
       "      <td>65.767631</td>\n",
       "      <td>67.12326</td>\n",
       "    </tr>\n",
       "    <tr>\n",
       "      <th>min</th>\n",
       "      <td>0.000000</td>\n",
       "      <td>21.000000</td>\n",
       "      <td>76.000000</td>\n",
       "      <td>77.000000</td>\n",
       "      <td>75.60000</td>\n",
       "    </tr>\n",
       "    <tr>\n",
       "      <th>25%</th>\n",
       "      <td>0.000000</td>\n",
       "      <td>43.000000</td>\n",
       "      <td>92.500000</td>\n",
       "      <td>92.000000</td>\n",
       "      <td>89.10000</td>\n",
       "    </tr>\n",
       "    <tr>\n",
       "      <th>50%</th>\n",
       "      <td>1.000000</td>\n",
       "      <td>50.500000</td>\n",
       "      <td>108.000000</td>\n",
       "      <td>106.000000</td>\n",
       "      <td>110.70000</td>\n",
       "    </tr>\n",
       "    <tr>\n",
       "      <th>75%</th>\n",
       "      <td>1.000000</td>\n",
       "      <td>61.250000</td>\n",
       "      <td>148.250000</td>\n",
       "      <td>146.000000</td>\n",
       "      <td>149.40000</td>\n",
       "    </tr>\n",
       "    <tr>\n",
       "      <th>max</th>\n",
       "      <td>1.000000</td>\n",
       "      <td>77.000000</td>\n",
       "      <td>380.000000</td>\n",
       "      <td>380.000000</td>\n",
       "      <td>378.00000</td>\n",
       "    </tr>\n",
       "  </tbody>\n",
       "</table>\n",
       "</div>"
      ],
      "text/plain": [
       "             Sex        Age      Finger     Earlobe        Arm\n",
       "count  50.000000  50.000000   50.000000   50.000000   50.00000\n",
       "mean    0.540000  49.740000  135.200000  131.920000  135.61200\n",
       "std     0.503457  14.131756   65.487185   65.767631   67.12326\n",
       "min     0.000000  21.000000   76.000000   77.000000   75.60000\n",
       "25%     0.000000  43.000000   92.500000   92.000000   89.10000\n",
       "50%     1.000000  50.500000  108.000000  106.000000  110.70000\n",
       "75%     1.000000  61.250000  148.250000  146.000000  149.40000\n",
       "max     1.000000  77.000000  380.000000  380.000000  378.00000"
      ]
     },
     "execution_count": 21,
     "metadata": {},
     "output_type": "execute_result"
    }
   ],
   "source": [
    "data.describe()"
   ]
  },
  {
   "cell_type": "code",
   "execution_count": 22,
   "id": "5e1ad53d",
   "metadata": {},
   "outputs": [],
   "source": [
    "from sklearn.model_selection import train_test_split\n",
    "x_train,x_test,y_train,y_test=train_test_split(X,y,test_size=0.1,random_state=2)\n"
   ]
  },
  {
   "cell_type": "code",
   "execution_count": 23,
   "id": "88dafd51",
   "metadata": {},
   "outputs": [
    {
     "data": {
      "text/plain": [
       "LinearRegression()"
      ]
     },
     "execution_count": 23,
     "metadata": {},
     "output_type": "execute_result"
    }
   ],
   "source": [
    "from sklearn.linear_model import LinearRegression\n",
    "\n",
    "lr=LinearRegression()\n",
    "lr.fit(x_train,y_train)"
   ]
  },
  {
   "cell_type": "code",
   "execution_count": 24,
   "id": "8047862c",
   "metadata": {},
   "outputs": [],
   "source": [
    "y_pred=lr.predict(x_test)"
   ]
  },
  {
   "cell_type": "code",
   "execution_count": 25,
   "id": "39d6fa69",
   "metadata": {},
   "outputs": [
    {
     "name": "stdout",
     "output_type": "stream",
     "text": [
      "[ 86.57504008 134.28168063 114.7042621  102.48207049  92.45140511]\n"
     ]
    }
   ],
   "source": [
    "print(y_pred)"
   ]
  },
  {
   "cell_type": "code",
   "execution_count": 26,
   "id": "7004aafc",
   "metadata": {},
   "outputs": [
    {
     "name": "stdout",
     "output_type": "stream",
     "text": [
      "[ 84.6 133.2 108.  118.8  81. ] \n",
      " [ 86.57504008 134.28168063 114.7042621  102.48207049  92.45140511]\n"
     ]
    }
   ],
   "source": [
    "print(y_test,'\\n',y_pred)"
   ]
  },
  {
   "cell_type": "code",
   "execution_count": 27,
   "id": "3fe7deb0",
   "metadata": {},
   "outputs": [
    {
     "name": "stdout",
     "output_type": "stream",
     "text": [
      "[ -1.97504008  -1.08168063  -6.7042621   16.31792951 -11.45140511]\n"
     ]
    }
   ],
   "source": [
    "z=y_test-y_pred\n",
    "print(z)"
   ]
  },
  {
   "cell_type": "code",
   "execution_count": 28,
   "id": "437b0110",
   "metadata": {},
   "outputs": [
    {
     "data": {
      "text/plain": [
       "9.459677046124522"
      ]
     },
     "execution_count": 28,
     "metadata": {},
     "output_type": "execute_result"
    }
   ],
   "source": [
    "from sklearn.metrics import mean_squared_error\n",
    "lin_mse = mean_squared_error(y_test, y_pred)\n",
    "lin_rmse = np.sqrt(lin_mse)\n",
    "lin_rmse"
   ]
  },
  {
   "cell_type": "code",
   "execution_count": 29,
   "id": "4dbdc205",
   "metadata": {},
   "outputs": [
    {
     "name": "stdout",
     "output_type": "stream",
     "text": [
      "mae 7.50606348684056\n",
      "mse 89.48548981697516\n",
      "rmse 9.459677046124522\n"
     ]
    }
   ],
   "source": [
    "from sklearn import metrics\n",
    "#print result of mae\n",
    "print(\"mae\",metrics.mean_absolute_error(y_test,y_pred))\n",
    "print(\"mse\",metrics.mean_squared_error(y_test,y_pred))\n",
    "print(\"rmse\",(np.sqrt(metrics.mean_squared_error(y_test,y_pred))))"
   ]
  },
  {
   "cell_type": "code",
   "execution_count": 30,
   "id": "b54042bf",
   "metadata": {},
   "outputs": [
    {
     "name": "stderr",
     "output_type": "stream",
     "text": [
      "C:\\Users\\LENOVO\\anaconda3\\lib\\site-packages\\seaborn\\axisgrid.py:2076: UserWarning: The `size` parameter has been renamed to `height`; please update your code.\n",
      "  warnings.warn(msg, UserWarning)\n"
     ]
    },
    {
     "data": {
      "text/plain": [
       "<seaborn.axisgrid.PairGrid at 0x2ad7a8b6640>"
      ]
     },
     "execution_count": 30,
     "metadata": {},
     "output_type": "execute_result"
    },
    {
     "data": {
      "image/png": "[encoded data removed]",
      "text/plain": [
       "<Figure size 352.8x504 with 1 Axes>"
      ]
     },
     "metadata": {
      "needs_background": "light"
     },
     "output_type": "display_data"
    }
   ],
   "source": [
    "import seaborn as sns\n",
    "\n",
    "sns.pairplot(data, x_vars=['Finger'], y_vars='Arm', size=7, aspect=0.7, kind='reg')\n"
   ]
  },
  {
   "cell_type": "code",
   "execution_count": null,
   "id": "75f08cb7",
   "metadata": {},
   "outputs": [],
   "source": []
  },
  {
   "cell_type": "code",
   "execution_count": null,
   "id": "400ef7f5",
   "metadata": {},
   "outputs": [],
   "source": []
  }
 ],
 "metadata": {
  "kernelspec": {
   "display_name": "Python 3 (ipykernel)",
   "language": "python",
   "name": "python3"
  },
  "language_info": {
   "codemirror_mode": {
    "name": "ipython",
    "version": 3
   },
   "file_extension": ".py",
   "mimetype": "text/x-python",
   "name": "python",
   "nbconvert_exporter": "python",
   "pygments_lexer": "ipython3",
   "version": "3.9.7"
  }
 },
 "nbformat": 4,
 "nbformat_minor": 5
}
