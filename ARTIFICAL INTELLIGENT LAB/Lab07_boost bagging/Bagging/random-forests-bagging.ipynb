{
 "cells": [
  {
   "cell_type": "markdown",
   "id": "f64b89be",
   "metadata": {
    "papermill": {
     "duration": 0.034736,
     "end_time": "2021-12-21T17:35:18.405704",
     "exception": false,
     "start_time": "2021-12-21T17:35:18.370968",
     "status": "completed"
    },
    "tags": []
   },
   "source": [
    "**OBJECTIVE: to build a classification model that can predict the target variable \"RainTomorrow\" with a high degree of accuracy**\n",
    "\n",
    "**MODEL CHOSEN**: Random Forests\n",
    "\n",
    "*More About Random Forests*\n",
    "* Random Forests are a supervised ensemble learning algorithm consisting of many Decision Trees\n",
    "* The algorithm uses bagging and feature randomness when building each individual tree to try and create an uncorrelated forest of trees whose prediction by committee is more accurate than that of any individual trees.\n",
    "* In a classification problem, each tree votes and the most popular class is chosen as the final result.\n",
    "\n",
    "**DATASET**: The Dataset used is the Rain in Australia dataset on Kaggle. You can find it [here](https://www.kaggle.com/jsphyg/weather-dataset-rattle-package).\n",
    "* The target variable, RainTomorrow, is binary, with a value of \"Yes\" if the rain for that day was 1 mm or more, and \"No\" if it was not.\n",
    "* The rest of the data is a mixture of categorical and numerical values. For a detailed explanation of the rest of the variables, follow the link to the dataset.\n",
    "\n",
    "Brief written explanations and interpretations will be given throughout this report. Additional information can be found in the form of comments throughout the code documentation. \n",
    "\n",
    "The report will begin by loading all required libraries and data."
   ]
  },
  {
   "cell_type": "code",
   "execution_count": 232,
   "id": "761dd911",
   "metadata": {},
   "outputs": [
    {
     "name": "stdout",
     "output_type": "stream",
     "text": [
      "Requirement already satisfied: imblearn in c:\\users\\lenovo\\anaconda3\\lib\\site-packages (0.0)\n",
      "Requirement already satisfied: imbalanced-learn in c:\\users\\lenovo\\anaconda3\\lib\\site-packages (from imblearn) (0.9.0)\n",
      "Requirement already satisfied: scikit-learn>=1.0.1 in c:\\users\\lenovo\\anaconda3\\lib\\site-packages (from imbalanced-learn->imblearn) (1.0.2)\n",
      "Requirement already satisfied: joblib>=0.11 in c:\\users\\lenovo\\anaconda3\\lib\\site-packages (from imbalanced-learn->imblearn) (1.1.0)\n",
      "Requirement already satisfied: scipy>=1.1.0 in c:\\users\\lenovo\\anaconda3\\lib\\site-packages (from imbalanced-learn->imblearn) (1.7.1)\n",
      "Requirement already satisfied: numpy>=1.14.6 in c:\\users\\lenovo\\anaconda3\\lib\\site-packages (from imbalanced-learn->imblearn) (1.20.3)\n",
      "Requirement already satisfied: threadpoolctl>=2.0.0 in c:\\users\\lenovo\\anaconda3\\lib\\site-packages (from imbalanced-learn->imblearn) (2.2.0)\n"
     ]
    }
   ],
   "source": [
    "!pip install imblearn"
   ]
  },
  {
   "cell_type": "code",
   "execution_count": 233,
   "id": "2d676a72",
   "metadata": {
    "_execution_state": "idle",
    "_uuid": "051d70d956493feee0c6d64651c6a088724dca2a",
    "execution": {
     "iopub.execute_input": "2021-12-21T17:35:18.477590Z",
     "iopub.status.busy": "2021-12-21T17:35:18.475819Z",
     "iopub.status.idle": "2021-12-21T17:35:19.824095Z",
     "shell.execute_reply": "2021-12-21T17:35:19.823029Z",
     "shell.execute_reply.started": "2021-12-21T16:46:56.460636Z"
    },
    "papermill": {
     "duration": 1.385881,
     "end_time": "2021-12-21T17:35:19.824257",
     "exception": false,
     "start_time": "2021-12-21T17:35:18.438376",
     "status": "completed"
    },
    "tags": []
   },
   "outputs": [],
   "source": [
    "# libraries\n",
    "import pandas as pd\n",
    "import matplotlib.pyplot as plt\n",
    "import seaborn as sns\n",
    "from imblearn.over_sampling import SMOTE\n",
    "from sklearn.model_selection import train_test_split\n",
    "from sklearn.ensemble import RandomForestClassifier\n",
    "from sklearn import metrics\n",
    "from sklearn.preprocessing import StandardScaler"
   ]
  },
  {
   "cell_type": "code",
   "execution_count": 234,
   "id": "3bf37f06",
   "metadata": {
    "execution": {
     "iopub.execute_input": "2021-12-21T17:35:19.894928Z",
     "iopub.status.busy": "2021-12-21T17:35:19.893913Z",
     "iopub.status.idle": "2021-12-21T17:35:20.462883Z",
     "shell.execute_reply": "2021-12-21T17:35:20.462317Z",
     "shell.execute_reply.started": "2021-12-21T16:46:58.020299Z"
    },
    "papermill": {
     "duration": 0.60518,
     "end_time": "2021-12-21T17:35:20.463030",
     "exception": false,
     "start_time": "2021-12-21T17:35:19.857850",
     "status": "completed"
    },
    "tags": []
   },
   "outputs": [],
   "source": [
    "df = pd.read_csv(\"weatherAUS.csv\")"
   ]
  },
  {
   "cell_type": "code",
   "execution_count": 235,
   "id": "77d8c289",
   "metadata": {
    "execution": {
     "iopub.execute_input": "2021-12-21T17:35:20.532864Z",
     "iopub.status.busy": "2021-12-21T17:35:20.531942Z",
     "iopub.status.idle": "2021-12-21T17:35:20.671162Z",
     "shell.execute_reply": "2021-12-21T17:35:20.671637Z",
     "shell.execute_reply.started": "2021-12-21T16:50:15.515981Z"
    },
    "papermill": {
     "duration": 0.17557,
     "end_time": "2021-12-21T17:35:20.671814",
     "exception": false,
     "start_time": "2021-12-21T17:35:20.496244",
     "status": "completed"
    },
    "tags": []
   },
   "outputs": [
    {
     "name": "stdout",
     "output_type": "stream",
     "text": [
      "<class 'pandas.core.frame.DataFrame'>\n",
      "RangeIndex: 145460 entries, 0 to 145459\n",
      "Data columns (total 23 columns):\n",
      " #   Column         Non-Null Count   Dtype  \n",
      "---  ------         --------------   -----  \n",
      " 0   Date           145460 non-null  object \n",
      " 1   Location       145460 non-null  object \n",
      " 2   MinTemp        143975 non-null  float64\n",
      " 3   MaxTemp        144199 non-null  float64\n",
      " 4   Rainfall       142199 non-null  float64\n",
      " 5   Evaporation    82670 non-null   float64\n",
      " 6   Sunshine       75625 non-null   float64\n",
      " 7   WindGustDir    135134 non-null  object \n",
      " 8   WindGustSpeed  135197 non-null  float64\n",
      " 9   WindDir9am     134894 non-null  object \n",
      " 10  WindDir3pm     141232 non-null  object \n",
      " 11  WindSpeed9am   143693 non-null  float64\n",
      " 12  WindSpeed3pm   142398 non-null  float64\n",
      " 13  Humidity9am    142806 non-null  float64\n",
      " 14  Humidity3pm    140953 non-null  float64\n",
      " 15  Pressure9am    130395 non-null  float64\n",
      " 16  Pressure3pm    130432 non-null  float64\n",
      " 17  Cloud9am       89572 non-null   float64\n",
      " 18  Cloud3pm       86102 non-null   float64\n",
      " 19  Temp9am        143693 non-null  float64\n",
      " 20  Temp3pm        141851 non-null  float64\n",
      " 21  RainToday      142199 non-null  object \n",
      " 22  RainTomorrow   142193 non-null  object \n",
      "dtypes: float64(16), object(7)\n",
      "memory usage: 25.5+ MB\n"
     ]
    }
   ],
   "source": [
    "df.info()"
   ]
  },
  {
   "cell_type": "markdown",
   "id": "2a7f2b9b",
   "metadata": {
    "papermill": {
     "duration": 0.033494,
     "end_time": "2021-12-21T17:35:20.739775",
     "exception": false,
     "start_time": "2021-12-21T17:35:20.706281",
     "status": "completed"
    },
    "tags": []
   },
   "source": [
    "# Data Preprocessing\n",
    "\n",
    "For the preprocessing stage of the report, we'll first examine which features are categorical and which are numerical."
   ]
  },
  {
   "cell_type": "code",
   "execution_count": 236,
   "id": "8b8f8ef2",
   "metadata": {
    "execution": {
     "iopub.execute_input": "2021-12-21T17:35:20.816584Z",
     "iopub.status.busy": "2021-12-21T17:35:20.815919Z",
     "iopub.status.idle": "2021-12-21T17:35:20.819376Z",
     "shell.execute_reply": "2021-12-21T17:35:20.820025Z",
     "shell.execute_reply.started": "2021-12-21T16:50:17.996318Z"
    },
    "papermill": {
     "duration": 0.043711,
     "end_time": "2021-12-21T17:35:20.820185",
     "exception": false,
     "start_time": "2021-12-21T17:35:20.776474",
     "status": "completed"
    },
    "tags": []
   },
   "outputs": [
    {
     "name": "stdout",
     "output_type": "stream",
     "text": [
      "the number of categorical features present in the dataset is 7  \n",
      "the categorical features present are as follows ['Date', 'Location', 'WindGustDir', 'WindDir9am', 'WindDir3pm', 'RainToday', 'RainTomorrow'] \n"
     ]
    }
   ],
   "source": [
    "# getting categorical features\n",
    "cFeatures = [columns_name for columns_name in df.columns if df[columns_name].dtype == \"O\"]\n",
    "print(f\"the number of categorical features present in the dataset is {len(cFeatures)}  \")\n",
    "print(f\"the categorical features present are as follows {cFeatures} \")"
   ]
  },
  {
   "cell_type": "code",
   "execution_count": 237,
   "id": "cf1cb9ef",
   "metadata": {
    "execution": {
     "iopub.execute_input": "2021-12-21T17:35:20.892025Z",
     "iopub.status.busy": "2021-12-21T17:35:20.891386Z",
     "iopub.status.idle": "2021-12-21T17:35:20.898202Z",
     "shell.execute_reply": "2021-12-21T17:35:20.897496Z",
     "shell.execute_reply.started": "2021-12-21T16:50:24.379665Z"
    },
    "papermill": {
     "duration": 0.043958,
     "end_time": "2021-12-21T17:35:20.898382",
     "exception": false,
     "start_time": "2021-12-21T17:35:20.854424",
     "status": "completed"
    },
    "tags": []
   },
   "outputs": [
    {
     "name": "stdout",
     "output_type": "stream",
     "text": [
      "the number of numerical features present in the dataset is 16  \n",
      "the numerical features present are as follows ['MinTemp', 'MaxTemp', 'Rainfall', 'Evaporation', 'Sunshine', 'WindGustSpeed', 'WindSpeed9am', 'WindSpeed3pm', 'Humidity9am', 'Humidity3pm', 'Pressure9am', 'Pressure3pm', 'Cloud9am', 'Cloud3pm', 'Temp9am', 'Temp3pm'] \n"
     ]
    }
   ],
   "source": [
    "# getting numberical features\n",
    "nFeatures = [columns_name for columns_name in df.columns if df[columns_name].dtype != \"O\"]\n",
    "print(f\"the number of numerical features present in the dataset is {len(nFeatures)}  \")\n",
    "print(f\"the numerical features present are as follows {nFeatures} \")"
   ]
  },
  {
   "cell_type": "markdown",
   "id": "627bbba7",
   "metadata": {
    "papermill": {
     "duration": 0.034467,
     "end_time": "2021-12-21T17:35:20.968124",
     "exception": false,
     "start_time": "2021-12-21T17:35:20.933657",
     "status": "completed"
    },
    "tags": []
   },
   "source": [
    "It's also a good idea to check the cardinality of our categorical features. High values of cardinality can increase run time and make our model more difficult to interpret. For a more detailed explanation of the drawbacks of cardinality, check out this [article](https://towardsdatascience.com/dealing-with-features-that-have-high-cardinality-1c9212d7ff1b)."
   ]
  },
  {
   "cell_type": "code",
   "execution_count": 238,
   "id": "5efac17d",
   "metadata": {
    "execution": {
     "iopub.execute_input": "2021-12-21T17:35:21.051641Z",
     "iopub.status.busy": "2021-12-21T17:35:21.051022Z",
     "iopub.status.idle": "2021-12-21T17:35:21.143933Z",
     "shell.execute_reply": "2021-12-21T17:35:21.143100Z",
     "shell.execute_reply.started": "2021-12-21T16:53:35.936697Z"
    },
    "papermill": {
     "duration": 0.141218,
     "end_time": "2021-12-21T17:35:21.144117",
     "exception": false,
     "start_time": "2021-12-21T17:35:21.002899",
     "status": "completed"
    },
    "tags": []
   },
   "outputs": [
    {
     "name": "stdout",
     "output_type": "stream",
     "text": [
      "the cardinality of the column Date is 3436 \n",
      "the cardinality of the column Location is 49 \n",
      "the cardinality of the column WindGustDir is 17 \n",
      "the cardinality of the column WindDir9am is 17 \n",
      "the cardinality of the column WindDir3pm is 17 \n",
      "the cardinality of the column RainToday is 3 \n",
      "the cardinality of the column RainTomorrow is 3 \n"
     ]
    }
   ],
   "source": [
    "# need to check cardinality of some of the features\n",
    "# this is something that will only really be an issue for categorical features, so we'll examine those\n",
    "for category in cFeatures:\n",
    "    count = len(df[category].unique())\n",
    "    print(f\"the cardinality of the column {category} is {count} \")"
   ]
  },
  {
   "cell_type": "markdown",
   "id": "9eb30575",
   "metadata": {
    "papermill": {
     "duration": 0.035276,
     "end_time": "2021-12-21T17:35:21.214717",
     "exception": false,
     "start_time": "2021-12-21T17:35:21.179441",
     "status": "completed"
    },
    "tags": []
   },
   "source": [
    "As we can see, the cardinality for the column Date is a cause for concern. We'll deal with this by converting the column Date into three new numeric columns: year, day, and month."
   ]
  },
  {
   "cell_type": "code",
   "execution_count": 239,
   "id": "77464a84",
   "metadata": {
    "execution": {
     "iopub.execute_input": "2021-12-21T17:35:21.335001Z",
     "iopub.status.busy": "2021-12-21T17:35:21.333196Z",
     "iopub.status.idle": "2021-12-21T17:35:21.528899Z",
     "shell.execute_reply": "2021-12-21T17:35:21.528334Z",
     "shell.execute_reply.started": "2021-12-21T16:54:37.272579Z"
    },
    "papermill": {
     "duration": 0.279031,
     "end_time": "2021-12-21T17:35:21.529043",
     "exception": false,
     "start_time": "2021-12-21T17:35:21.250012",
     "status": "completed"
    },
    "tags": []
   },
   "outputs": [
    {
     "name": "stdout",
     "output_type": "stream",
     "text": [
      "<class 'pandas.core.frame.DataFrame'>\n",
      "RangeIndex: 145460 entries, 0 to 145459\n",
      "Data columns (total 25 columns):\n",
      " #   Column         Non-Null Count   Dtype  \n",
      "---  ------         --------------   -----  \n",
      " 0   Location       145460 non-null  object \n",
      " 1   MinTemp        143975 non-null  float64\n",
      " 2   MaxTemp        144199 non-null  float64\n",
      " 3   Rainfall       142199 non-null  float64\n",
      " 4   Evaporation    82670 non-null   float64\n",
      " 5   Sunshine       75625 non-null   float64\n",
      " 6   WindGustDir    135134 non-null  object \n",
      " 7   WindGustSpeed  135197 non-null  float64\n",
      " 8   WindDir9am     134894 non-null  object \n",
      " 9   WindDir3pm     141232 non-null  object \n",
      " 10  WindSpeed9am   143693 non-null  float64\n",
      " 11  WindSpeed3pm   142398 non-null  float64\n",
      " 12  Humidity9am    142806 non-null  float64\n",
      " 13  Humidity3pm    140953 non-null  float64\n",
      " 14  Pressure9am    130395 non-null  float64\n",
      " 15  Pressure3pm    130432 non-null  float64\n",
      " 16  Cloud9am       89572 non-null   float64\n",
      " 17  Cloud3pm       86102 non-null   float64\n",
      " 18  Temp9am        143693 non-null  float64\n",
      " 19  Temp3pm        141851 non-null  float64\n",
      " 20  RainToday      142199 non-null  object \n",
      " 21  RainTomorrow   142193 non-null  object \n",
      " 22  year           145460 non-null  int64  \n",
      " 23  month          145460 non-null  int64  \n",
      " 24  day            145460 non-null  int64  \n",
      "dtypes: float64(16), int64(3), object(6)\n",
      "memory usage: 27.7+ MB\n"
     ]
    }
   ],
   "source": [
    "# we can deal with the cardinality of date by making a column for day, month, and year\n",
    "df[\"Date\"] = pd.to_datetime(df[\"Date\"]) # to_datetime converts to type date\n",
    "# creating the new columns\n",
    "df[\"year\"] = df[\"Date\"].dt.year\n",
    "df[\"month\"] = df[\"Date\"].dt.month\n",
    "df[\"day\"] = df[\"Date\"].dt.day\n",
    "# then need to drop the \"Date\" column\n",
    "df.drop(\"Date\", axis = 1, inplace = True)\n",
    "# and then take a look at what the dataframe looks like now\n",
    "df.info() "
   ]
  },
  {
   "cell_type": "code",
   "execution_count": 240,
   "id": "8f2c7969",
   "metadata": {
    "execution": {
     "iopub.execute_input": "2021-12-21T17:35:21.605928Z",
     "iopub.status.busy": "2021-12-21T17:35:21.605092Z",
     "iopub.status.idle": "2021-12-21T17:35:21.608358Z",
     "shell.execute_reply": "2021-12-21T17:35:21.609072Z",
     "shell.execute_reply.started": "2021-12-21T16:54:42.83591Z"
    },
    "papermill": {
     "duration": 0.044561,
     "end_time": "2021-12-21T17:35:21.609300",
     "exception": false,
     "start_time": "2021-12-21T17:35:21.564739",
     "status": "completed"
    },
    "tags": []
   },
   "outputs": [
    {
     "name": "stdout",
     "output_type": "stream",
     "text": [
      "the number of categorical features present in the dataset: 6  \n",
      "the categorical features present are as follows ['Location', 'WindGustDir', 'WindDir9am', 'WindDir3pm', 'RainToday', 'RainTomorrow'] \n"
     ]
    }
   ],
   "source": [
    "# now we have three more numeric columns, and our highest cardinality for cat variables is Location at 49\n",
    "# updating out nFeatures from before\n",
    "cFeatures = [columns_name for columns_name in df.columns if df[columns_name].dtype == \"O\"]\n",
    "print(f\"the number of categorical features present in the dataset: {len(cFeatures)}  \")\n",
    "print(f\"the categorical features present are as follows {cFeatures} \")"
   ]
  },
  {
   "cell_type": "markdown",
   "id": "c5cf610c",
   "metadata": {
    "papermill": {
     "duration": 0.03483,
     "end_time": "2021-12-21T17:35:21.680825",
     "exception": false,
     "start_time": "2021-12-21T17:35:21.645995",
     "status": "completed"
    },
    "tags": []
   },
   "source": [
    "After addressing cardinality, it's also important to get any null values that may exist out of the way before moving on to data preparation. We'll begin by filling in missing values for categorical values."
   ]
  },
  {
   "cell_type": "code",
   "execution_count": 241,
   "id": "d8960fa3",
   "metadata": {
    "execution": {
     "iopub.execute_input": "2021-12-21T17:35:21.759146Z",
     "iopub.status.busy": "2021-12-21T17:35:21.757967Z",
     "iopub.status.idle": "2021-12-21T17:35:21.866202Z",
     "shell.execute_reply": "2021-12-21T17:35:21.867118Z",
     "shell.execute_reply.started": "2021-12-21T16:55:15.599348Z"
    },
    "papermill": {
     "duration": 0.15088,
     "end_time": "2021-12-21T17:35:21.867332",
     "exception": false,
     "start_time": "2021-12-21T17:35:21.716452",
     "status": "completed"
    },
    "tags": []
   },
   "outputs": [
    {
     "data": {
      "text/plain": [
       "Location            0\n",
       "WindGustDir     10326\n",
       "WindDir9am      10566\n",
       "WindDir3pm       4228\n",
       "RainToday        3261\n",
       "RainTomorrow     3267\n",
       "dtype: int64"
      ]
     },
     "execution_count": 241,
     "metadata": {},
     "output_type": "execute_result"
    }
   ],
   "source": [
    "# dealing with missing values\n",
    "# sum up how many NAs for each categorical variable\n",
    "df[cFeatures].isnull().sum() # Total missing values  "
   ]
  },
  {
   "cell_type": "code",
   "execution_count": 242,
   "id": "3086e2a5",
   "metadata": {
    "execution": {
     "iopub.execute_input": "2021-12-21T17:35:21.944396Z",
     "iopub.status.busy": "2021-12-21T17:35:21.943395Z",
     "iopub.status.idle": "2021-12-21T17:35:22.225630Z",
     "shell.execute_reply": "2021-12-21T17:35:22.226270Z",
     "shell.execute_reply.started": "2021-12-21T16:55:52.947162Z"
    },
    "papermill": {
     "duration": 0.322406,
     "end_time": "2021-12-21T17:35:22.226439",
     "exception": false,
     "start_time": "2021-12-21T17:35:21.904033",
     "status": "completed"
    },
    "tags": []
   },
   "outputs": [],
   "source": [
    "# want to fill in missing values, can use median or mode or mean. \n",
    "# choosing mode but can change later and see how it affects the accuracy rate \n",
    "categorical_nulls = [features for features in cFeatures if df[features].isnull().sum()]  # list will return with categorical features\n",
    "for variable in categorical_nulls:\n",
    "    df[variable] = df[variable].fillna(df[variable].mode()[0])     #each cat_feature is filled by most repeated value "
   ]
  },
  {
   "cell_type": "code",
   "execution_count": 243,
   "id": "d82dc48a",
   "metadata": {
    "execution": {
     "iopub.execute_input": "2021-12-21T17:35:22.302871Z",
     "iopub.status.busy": "2021-12-21T17:35:22.302281Z",
     "iopub.status.idle": "2021-12-21T17:35:22.404917Z",
     "shell.execute_reply": "2021-12-21T17:35:22.404269Z",
     "shell.execute_reply.started": "2021-12-21T16:56:01.064603Z"
    },
    "papermill": {
     "duration": 0.143636,
     "end_time": "2021-12-21T17:35:22.405053",
     "exception": false,
     "start_time": "2021-12-21T17:35:22.261417",
     "status": "completed"
    },
    "tags": []
   },
   "outputs": [
    {
     "data": {
      "text/plain": [
       "Location        0\n",
       "WindGustDir     0\n",
       "WindDir9am      0\n",
       "WindDir3pm      0\n",
       "RainToday       0\n",
       "RainTomorrow    0\n",
       "dtype: int64"
      ]
     },
     "execution_count": 243,
     "metadata": {},
     "output_type": "execute_result"
    }
   ],
   "source": [
    "# now we check how many missing values are left, if any (there are none!)\n",
    "df[cFeatures].isnull().sum()"
   ]
  },
  {
   "cell_type": "markdown",
   "id": "652a3000",
   "metadata": {
    "papermill": {
     "duration": 0.035816,
     "end_time": "2021-12-21T17:35:22.477124",
     "exception": false,
     "start_time": "2021-12-21T17:35:22.441308",
     "status": "completed"
    },
    "tags": []
   },
   "source": [
    "Next, we'll need to address the null values for numerical variables. However, this is a bit more complicated than with categorical values-- before imputing a mean, median, or mode; we'll need to check for outliers. This is an important step because outliers can skew the mean/median/mode of our dataset, which means that after imputing our skewed statistical measure, our dataset becomes irrepresentative of the population it's supposed to be representative of. \n",
    "\n",
    "However, there are also drawbacks to getting rid of outliers. For this specific dataset, when thinking about weather, it's important to note that extreme events such as rainstorms and drought that might be helpful in predicting RainTomorrow for those specific time periods will be marked outlying events through our analysis. \n",
    "\n",
    "In this specific situation, the benefit of removing outliers far outweighs the cost-- for a relatively small dataset such as this one, we can't afford to just delete missing cells from the dataset. However, a more sophisticated analysis of weather in Australia with more available data would stop here and address the missing values using different methodology (and, most likey, have a better accuracy rate as a result).\n",
    "\n",
    "If you're interested in a more detailed discussion of outliers, check out this [article](https://medium.com/@curryrowan/a-closer-look-at-outliers-58f553ebab2d)."
   ]
  },
  {
   "cell_type": "code",
   "execution_count": 244,
   "id": "c63818c2",
   "metadata": {
    "execution": {
     "iopub.execute_input": "2021-12-21T17:35:22.556233Z",
     "iopub.status.busy": "2021-12-21T17:35:22.555544Z",
     "iopub.status.idle": "2021-12-21T17:35:22.558133Z",
     "shell.execute_reply": "2021-12-21T17:35:22.558739Z",
     "shell.execute_reply.started": "2021-12-21T17:01:48.628177Z"
    },
    "papermill": {
     "duration": 0.045199,
     "end_time": "2021-12-21T17:35:22.558914",
     "exception": false,
     "start_time": "2021-12-21T17:35:22.513715",
     "status": "completed"
    },
    "tags": []
   },
   "outputs": [
    {
     "name": "stdout",
     "output_type": "stream",
     "text": [
      "the number of numerical features present in the dataset: 19  \n",
      "the numerical features present are as follows ['MinTemp', 'MaxTemp', 'Rainfall', 'Evaporation', 'Sunshine', 'WindGustSpeed', 'WindSpeed9am', 'WindSpeed3pm', 'Humidity9am', 'Humidity3pm', 'Pressure9am', 'Pressure3pm', 'Cloud9am', 'Cloud3pm', 'Temp9am', 'Temp3pm', 'year', 'month', 'day'] \n"
     ]
    }
   ],
   "source": [
    "# now we handle missing values for numerical variables\n",
    "# getting numerical features -- we have more now, so re-running the code from above\n",
    "nFeatures = [columns_name for columns_name in df.columns if df[columns_name].dtype != \"O\"]\n",
    "print(f\"the number of numerical features present in the dataset: {len(nFeatures)}  \")\n",
    "print(f\"the numerical features present are as follows {nFeatures} \")"
   ]
  },
  {
   "cell_type": "code",
   "execution_count": 245,
   "id": "fcc87427",
   "metadata": {
    "execution": {
     "iopub.execute_input": "2021-12-21T17:35:22.638621Z",
     "iopub.status.busy": "2021-12-21T17:35:22.638009Z",
     "iopub.status.idle": "2021-12-21T17:35:22.656162Z",
     "shell.execute_reply": "2021-12-21T17:35:22.656761Z",
     "shell.execute_reply.started": "2021-12-21T17:01:51.462776Z"
    },
    "papermill": {
     "duration": 0.060594,
     "end_time": "2021-12-21T17:35:22.656927",
     "exception": false,
     "start_time": "2021-12-21T17:35:22.596333",
     "status": "completed"
    },
    "tags": []
   },
   "outputs": [
    {
     "data": {
      "text/plain": [
       "MinTemp           1485\n",
       "MaxTemp           1261\n",
       "Rainfall          3261\n",
       "Evaporation      62790\n",
       "Sunshine         69835\n",
       "WindGustSpeed    10263\n",
       "WindSpeed9am      1767\n",
       "WindSpeed3pm      3062\n",
       "Humidity9am       2654\n",
       "Humidity3pm       4507\n",
       "Pressure9am      15065\n",
       "Pressure3pm      15028\n",
       "Cloud9am         55888\n",
       "Cloud3pm         59358\n",
       "Temp9am           1767\n",
       "Temp3pm           3609\n",
       "year                 0\n",
       "month                0\n",
       "day                  0\n",
       "dtype: int64"
      ]
     },
     "execution_count": 245,
     "metadata": {},
     "output_type": "execute_result"
    }
   ],
   "source": [
    "num_null = df[nFeatures].isnull().sum() # checking how many null values\n",
    "# so we can see\n",
    "num_null"
   ]
  },
  {
   "cell_type": "code",
   "execution_count": 246,
   "id": "32352544",
   "metadata": {
    "execution": {
     "iopub.execute_input": "2021-12-21T17:35:22.733372Z",
     "iopub.status.busy": "2021-12-21T17:35:22.732739Z",
     "iopub.status.idle": "2021-12-21T17:35:22.759288Z",
     "shell.execute_reply": "2021-12-21T17:35:22.758657Z",
     "shell.execute_reply.started": "2021-12-21T17:01:54.719621Z"
    },
    "papermill": {
     "duration": 0.067414,
     "end_time": "2021-12-21T17:35:22.759420",
     "exception": false,
     "start_time": "2021-12-21T17:35:22.692006",
     "status": "completed"
    },
    "tags": []
   },
   "outputs": [
    {
     "data": {
      "text/plain": [
       "MinTemp           1485\n",
       "MaxTemp           1261\n",
       "Rainfall          3261\n",
       "Evaporation      62790\n",
       "Sunshine         69835\n",
       "WindGustSpeed    10263\n",
       "WindSpeed9am      1767\n",
       "WindSpeed3pm      3062\n",
       "Humidity9am       2654\n",
       "Humidity3pm       4507\n",
       "Pressure9am      15065\n",
       "Pressure3pm      15028\n",
       "Cloud9am         55888\n",
       "Cloud3pm         59358\n",
       "Temp9am           1767\n",
       "Temp3pm           3609\n",
       "dtype: int64"
      ]
     },
     "execution_count": 246,
     "metadata": {},
     "output_type": "execute_result"
    }
   ],
   "source": [
    "# we can see that not all of the variables have null values because of our date conversion\n",
    "# so getting just the variables that have null/missing values\n",
    "only_num_null = [column for column in nFeatures if df[column].isnull().sum()]\n",
    "missing_num = df[only_num_null].isnull().sum()\n",
    "# now we have only those with missing values\n",
    "missing_num"
   ]
  },
  {
   "cell_type": "code",
   "execution_count": 247,
   "id": "10c715a3",
   "metadata": {
    "execution": {
     "iopub.execute_input": "2021-12-21T17:35:22.841406Z",
     "iopub.status.busy": "2021-12-21T17:35:22.840746Z",
     "iopub.status.idle": "2021-12-21T17:35:26.436230Z",
     "shell.execute_reply": "2021-12-21T17:35:26.435719Z",
     "shell.execute_reply.started": "2021-12-21T17:01:58.292665Z"
    },
    "papermill": {
     "duration": 3.639359,
     "end_time": "2021-12-21T17:35:26.436367",
     "exception": false,
     "start_time": "2021-12-21T17:35:22.797008",
     "status": "completed"
    },
    "tags": []
   },
   "outputs": [
    {
     "data": {
      "text/plain": [
       "<AxesSubplot:>"
      ]
     },
     "execution_count": 247,
     "metadata": {},
     "output_type": "execute_result"
    },
    {
     "data": {
      "image/png": "[encoded data removed]",
      "text/plain": [
       "<Figure size 864x720 with 1 Axes>"
      ]
     },
     "metadata": {
      "needs_background": "light"
     },
     "output_type": "display_data"
    }
   ],
   "source": [
    "# for numerical, don't want to immediately impute something like the mean or mode for missing values\n",
    "# need to first check for outliers\n",
    "plt.figure(figsize=(12,10))\n",
    "df.boxplot(only_num_null,rot = 90)"
   ]
  },
  {
   "cell_type": "code",
   "execution_count": 248,
   "id": "644f38c5",
   "metadata": {
    "execution": {
     "iopub.execute_input": "2021-12-21T17:35:26.517649Z",
     "iopub.status.busy": "2021-12-21T17:35:26.517020Z",
     "iopub.status.idle": "2021-12-21T17:35:26.637733Z",
     "shell.execute_reply": "2021-12-21T17:35:26.638202Z",
     "shell.execute_reply.started": "2021-12-21T17:02:05.415729Z"
    },
    "papermill": {
     "duration": 0.163065,
     "end_time": "2021-12-21T17:35:26.638365",
     "exception": false,
     "start_time": "2021-12-21T17:35:26.475300",
     "status": "completed"
    },
    "tags": []
   },
   "outputs": [],
   "source": [
    "# there are indeed outliers (can see from the boxplot), which we will handle using the IQR method\n",
    "# this is a drawback of filling in missing values because often outliers can tell us something important about the data\n",
    "# for example, we have a lot of outliers for rainfall,which we are trying to predict, which means we might\n",
    "# have trouble predicting rain for \"outlying\" events later on. \n",
    "# for loop to get rid of outliers\n",
    "for feature in only_num_null:\n",
    "    q1 = df[feature].quantile(0.25)\n",
    "    q3 = df[feature].quantile(0.75)\n",
    "    IQR = q3-q1\n",
    "    lower_limit = q1 - (IQR*1.5)\n",
    "    upper_limit = q3 + (IQR*1.5)\n",
    "    df.loc[df[feature]<lower_limit, feature] = lower_limit\n",
    "    df.loc[df[feature]>upper_limit, feature] = upper_limit"
   ]
  },
  {
   "cell_type": "code",
   "execution_count": 249,
   "id": "dcc863e1",
   "metadata": {
    "execution": {
     "iopub.execute_input": "2021-12-21T17:35:26.719299Z",
     "iopub.status.busy": "2021-12-21T17:35:26.718705Z",
     "iopub.status.idle": "2021-12-21T17:35:30.323636Z",
     "shell.execute_reply": "2021-12-21T17:35:30.322994Z",
     "shell.execute_reply.started": "2021-12-21T17:02:12.026396Z"
    },
    "papermill": {
     "duration": 3.646621,
     "end_time": "2021-12-21T17:35:30.323773",
     "exception": false,
     "start_time": "2021-12-21T17:35:26.677152",
     "status": "completed"
    },
    "tags": []
   },
   "outputs": [
    {
     "data": {
      "text/plain": [
       "<AxesSubplot:>"
      ]
     },
     "execution_count": 249,
     "metadata": {},
     "output_type": "execute_result"
    },
    {
     "data": {
      "image/png": "[encoded data removed]",
      "text/plain": [
       "<Figure size 864x720 with 1 Axes>"
      ]
     },
     "metadata": {
      "needs_background": "light"
     },
     "output_type": "display_data"
    }
   ],
   "source": [
    "# now, we'll look at the boxplot again\n",
    "plt.figure(figsize=(12,10))\n",
    "df.boxplot(only_num_null,rot = 90) # we can see that there are no longer any outliers"
   ]
  },
  {
   "cell_type": "code",
   "execution_count": 250,
   "id": "f63f9c3e",
   "metadata": {
    "execution": {
     "iopub.execute_input": "2021-12-21T17:35:30.411953Z",
     "iopub.status.busy": "2021-12-21T17:35:30.410853Z",
     "iopub.status.idle": "2021-12-21T17:35:30.445707Z",
     "shell.execute_reply": "2021-12-21T17:35:30.445169Z",
     "shell.execute_reply.started": "2021-12-21T17:02:19.497904Z"
    },
    "papermill": {
     "duration": 0.080875,
     "end_time": "2021-12-21T17:35:30.445852",
     "exception": false,
     "start_time": "2021-12-21T17:35:30.364977",
     "status": "completed"
    },
    "tags": []
   },
   "outputs": [
    {
     "data": {
      "text/plain": [
       "MinTemp          0\n",
       "MaxTemp          0\n",
       "Rainfall         0\n",
       "Evaporation      0\n",
       "Sunshine         0\n",
       "WindGustSpeed    0\n",
       "WindSpeed9am     0\n",
       "WindSpeed3pm     0\n",
       "Humidity9am      0\n",
       "Humidity3pm      0\n",
       "Pressure9am      0\n",
       "Pressure3pm      0\n",
       "Cloud9am         0\n",
       "Cloud3pm         0\n",
       "Temp9am          0\n",
       "Temp3pm          0\n",
       "dtype: int64"
      ]
     },
     "execution_count": 250,
     "metadata": {},
     "output_type": "execute_result"
    }
   ],
   "source": [
    "# since we've gotten rid of outliers, we can now fill in missing cells with the mean \n",
    "for features in only_num_null:\n",
    "    df[features] = df[features].fillna(df[features].mean())\n",
    "\n",
    "# making sure that worked:\n",
    "df[only_num_null].isnull().sum()"
   ]
  },
  {
   "cell_type": "markdown",
   "id": "02082aca",
   "metadata": {
    "papermill": {
     "duration": 0.04034,
     "end_time": "2021-12-21T17:35:30.527167",
     "exception": false,
     "start_time": "2021-12-21T17:35:30.486827",
     "status": "completed"
    },
    "tags": []
   },
   "source": [
    "# Exploratory Data Analysis\n",
    "\n",
    "We'll conduct some brief exploratory analysis before moving on. The most important thing to notice from these preliminary visualizations is the imbalance between \"Yes\" and \"No\" values for RainTomorrow. This will be important later on."
   ]
  },
  {
   "cell_type": "code",
   "execution_count": 251,
   "id": "b039ea85",
   "metadata": {
    "execution": {
     "iopub.execute_input": "2021-12-21T17:35:30.637571Z",
     "iopub.status.busy": "2021-12-21T17:35:30.610600Z",
     "iopub.status.idle": "2021-12-21T17:35:30.891768Z",
     "shell.execute_reply": "2021-12-21T17:35:30.892700Z",
     "shell.execute_reply.started": "2021-12-21T17:02:33.38401Z"
    },
    "papermill": {
     "duration": 0.325644,
     "end_time": "2021-12-21T17:35:30.893006",
     "exception": false,
     "start_time": "2021-12-21T17:35:30.567362",
     "status": "completed"
    },
    "tags": []
   },
   "outputs": [
    {
     "data": {
      "text/plain": [
       "<AxesSubplot:xlabel='RainTomorrow', ylabel='count'>"
      ]
     },
     "execution_count": 251,
     "metadata": {},
     "output_type": "execute_result"
    },
    {
     "data": {
      "image/png": "[encoded data removed]",
      "text/plain": [
       "<Figure size 720x720 with 1 Axes>"
      ]
     },
     "metadata": {
      "needs_background": "light"
     },
     "output_type": "display_data"
    }
   ],
   "source": [
    "# first I\"ll take a look at the target variable\n",
    "sns.countplot(x = \"RainTomorrow\", data = df) \n",
    "# we can see that most days, it did not rain the next day\n",
    "# in some cases it might be necessary to balance the data, but in this case it reflects reality\n",
    "# (in australia, it is supposed to rain less days than it is not)"
   ]
  },
  {
   "cell_type": "code",
   "execution_count": 252,
   "id": "d5729079",
   "metadata": {
    "execution": {
     "iopub.execute_input": "2021-12-21T17:35:31.014458Z",
     "iopub.status.busy": "2021-12-21T17:35:31.009472Z",
     "iopub.status.idle": "2021-12-21T17:35:35.030787Z",
     "shell.execute_reply": "2021-12-21T17:35:35.031457Z",
     "shell.execute_reply.started": "2021-12-21T17:03:13.09129Z"
    },
    "papermill": {
     "duration": 4.079534,
     "end_time": "2021-12-21T17:35:35.031709",
     "exception": false,
     "start_time": "2021-12-21T17:35:30.952175",
     "status": "completed"
    },
    "tags": []
   },
   "outputs": [
    {
     "data": {
      "text/plain": [
       "array([[<AxesSubplot:title={'center':'MinTemp'}>,\n",
       "        <AxesSubplot:title={'center':'MaxTemp'}>,\n",
       "        <AxesSubplot:title={'center':'Rainfall'}>,\n",
       "        <AxesSubplot:title={'center':'Evaporation'}>],\n",
       "       [<AxesSubplot:title={'center':'Sunshine'}>,\n",
       "        <AxesSubplot:title={'center':'WindGustSpeed'}>,\n",
       "        <AxesSubplot:title={'center':'WindSpeed9am'}>,\n",
       "        <AxesSubplot:title={'center':'WindSpeed3pm'}>],\n",
       "       [<AxesSubplot:title={'center':'Humidity9am'}>,\n",
       "        <AxesSubplot:title={'center':'Humidity3pm'}>,\n",
       "        <AxesSubplot:title={'center':'Pressure9am'}>,\n",
       "        <AxesSubplot:title={'center':'Pressure3pm'}>],\n",
       "       [<AxesSubplot:title={'center':'Cloud9am'}>,\n",
       "        <AxesSubplot:title={'center':'Cloud3pm'}>,\n",
       "        <AxesSubplot:title={'center':'Temp9am'}>,\n",
       "        <AxesSubplot:title={'center':'Temp3pm'}>]], dtype=object)"
      ]
     },
     "execution_count": 252,
     "metadata": {},
     "output_type": "execute_result"
    },
    {
     "data": {
      "image/png": "[encoded data removed]",
      "text/plain": [
       "<Figure size 1152x1440 with 16 Axes>"
      ]
     },
     "metadata": {
      "needs_background": "light"
     },
     "output_type": "display_data"
    }
   ],
   "source": [
    "# make histograms for all numerical variables at once\n",
    "df_num = df.select_dtypes(include = ['float64'])\n",
    "df_num.hist(figsize=(16, 20), bins=50, xlabelsize=8, ylabelsize=8)"
   ]
  },
  {
   "cell_type": "markdown",
   "id": "f3c10d85",
   "metadata": {
    "papermill": {
     "duration": 0.043487,
     "end_time": "2021-12-21T17:35:35.119267",
     "exception": false,
     "start_time": "2021-12-21T17:35:35.075780",
     "status": "completed"
    },
    "tags": []
   },
   "source": [
    "# Encoding\n",
    "\n",
    "For our next step, we'll need to convert the categorical variables into a form that our Random Forest model will be able to understand. This is called encoding-- where we replace each categorical variable with numerical values. This will be done by creating a function that counts how many possible values each categorical variable has and then maps each qualitative value to it's corresponding unique index. The function then uses those numbers as the new 'qualitative' value.  "
   ]
  },
  {
   "cell_type": "code",
   "execution_count": 253,
   "id": "91c72a5f",
   "metadata": {
    "execution": {
     "iopub.execute_input": "2021-12-21T17:35:35.208006Z",
     "iopub.status.busy": "2021-12-21T17:35:35.207262Z",
     "iopub.status.idle": "2021-12-21T17:35:35.213739Z",
     "shell.execute_reply": "2021-12-21T17:35:35.214275Z",
     "shell.execute_reply.started": "2021-12-21T17:07:59.539341Z"
    },
    "papermill": {
     "duration": 0.053036,
     "end_time": "2021-12-21T17:35:35.214426",
     "exception": false,
     "start_time": "2021-12-21T17:35:35.161390",
     "status": "completed"
    },
    "tags": []
   },
   "outputs": [
    {
     "data": {
      "text/plain": [
       "['Location',\n",
       " 'WindGustDir',\n",
       " 'WindDir9am',\n",
       " 'WindDir3pm',\n",
       " 'RainToday',\n",
       " 'RainTomorrow']"
      ]
     },
     "execution_count": 253,
     "metadata": {},
     "output_type": "execute_result"
    }
   ],
   "source": [
    "# we need to convert our categorical variables to something our model can understand\n",
    "\n",
    "# getting final round up of categorical feautures\n",
    "categorical = [i for i in df.columns if df[i].dtype == \"O\"]\n",
    "\n",
    "categorical"
   ]
  },
  {
   "cell_type": "code",
   "execution_count": 254,
   "id": "51c47093",
   "metadata": {
    "execution": {
     "iopub.execute_input": "2021-12-21T17:35:35.318713Z",
     "iopub.status.busy": "2021-12-21T17:35:35.317809Z",
     "iopub.status.idle": "2021-12-21T17:35:36.517856Z",
     "shell.execute_reply": "2021-12-21T17:35:36.517301Z",
     "shell.execute_reply.started": "2021-12-21T17:08:39.526596Z"
    },
    "papermill": {
     "duration": 1.259482,
     "end_time": "2021-12-21T17:35:36.518010",
     "exception": false,
     "start_time": "2021-12-21T17:35:35.258528",
     "status": "completed"
    },
    "tags": []
   },
   "outputs": [
    {
     "name": "stdout",
     "output_type": "stream",
     "text": [
      "   Location  MinTemp  MaxTemp  Rainfall  Evaporation  Sunshine  WindGustDir  \\\n",
      "0         0     13.4     22.9       0.6     5.318667  7.611178            0   \n",
      "1         0      7.4     25.1       0.0     5.318667  7.611178            1   \n",
      "2         0     12.9     25.7       0.0     5.318667  7.611178            2   \n",
      "3         0      9.2     28.0       0.0     5.318667  7.611178            3   \n",
      "4         0     17.5     32.3       1.0     5.318667  7.611178            0   \n",
      "\n",
      "   WindGustSpeed  WindDir9am  WindDir3pm  ...  Pressure3pm  Cloud9am  \\\n",
      "0           44.0           0           0  ...       1007.1  8.000000   \n",
      "1           44.0           1           1  ...       1007.8  4.447461   \n",
      "2           46.0           0           1  ...       1008.7  4.447461   \n",
      "3           24.0           2           2  ...       1012.8  4.447461   \n",
      "4           41.0           3           3  ...       1006.0  7.000000   \n",
      "\n",
      "   Cloud3pm  Temp9am  Temp3pm  RainToday  RainTomorrow  year  month  day  \n",
      "0   4.50993     16.9     21.8          0             0  2008     12    1  \n",
      "1   4.50993     17.2     24.3          0             0  2008     12    2  \n",
      "2   2.00000     21.0     23.2          0             0  2008     12    3  \n",
      "3   4.50993     18.1     26.5          0             0  2008     12    4  \n",
      "4   8.00000     17.8     29.7          0             0  2008     12    5  \n",
      "\n",
      "[5 rows x 25 columns]\n"
     ]
    }
   ],
   "source": [
    "# now to perform encoding, we'll make a function\n",
    "def encoding(feature):\n",
    "    mapping = {} \n",
    "    unique = list(df[feature].unique()) # getting unique qualitative values\n",
    "    for index in range(len(unique)): \n",
    "        mapping[unique[index]] = index # converting to a numerical representation\n",
    "    return mapping                     # of qualitative values\n",
    "\n",
    "# applying the function to our data\n",
    "for category in categorical:\n",
    "    df[category].replace(encoding(category), inplace = True)\n",
    "    \n",
    "print(df.head()) # and this finishes our encoding"
   ]
  },
  {
   "cell_type": "markdown",
   "id": "a70e44e7",
   "metadata": {
    "papermill": {
     "duration": 0.045425,
     "end_time": "2021-12-21T17:35:36.608140",
     "exception": false,
     "start_time": "2021-12-21T17:35:36.562715",
     "status": "completed"
    },
    "tags": []
   },
   "source": [
    "# Data Preparation\n",
    "\n",
    "Our last step before building the model is data preparation. We split the dataset and then apply SMOTE to our data because of the imbalance of \"Yes\" and \"No\" values in our target variable RainTomorrow.\n",
    "\n",
    "SMOTE stands for Synthetic Minority Oversampling Technique. It's a statistical technique for increasing the number of cases in your data in a balanced way. This specific module works by generating new instances from existing minority cases that we supply as input. This module should be used for imbalanced datasets-- like ours!"
   ]
  },
  {
   "cell_type": "code",
   "execution_count": 255,
   "id": "cffda670",
   "metadata": {
    "execution": {
     "iopub.execute_input": "2021-12-21T17:35:36.701005Z",
     "iopub.status.busy": "2021-12-21T17:35:36.700300Z",
     "iopub.status.idle": "2021-12-21T17:35:36.720669Z",
     "shell.execute_reply": "2021-12-21T17:35:36.721174Z",
     "shell.execute_reply.started": "2021-12-21T17:10:44.976963Z"
    },
    "papermill": {
     "duration": 0.069495,
     "end_time": "2021-12-21T17:35:36.721347",
     "exception": false,
     "start_time": "2021-12-21T17:35:36.651852",
     "status": "completed"
    },
    "tags": []
   },
   "outputs": [],
   "source": [
    "y = df[\"RainTomorrow\"]  # dependent or target \n",
    "X = df.drop([\"RainTomorrow\"],axis = 1)  # indepedent or input"
   ]
  },
  {
   "cell_type": "code",
   "execution_count": 256,
   "id": "4d1ab393",
   "metadata": {
    "execution": {
     "iopub.execute_input": "2021-12-21T17:35:36.819655Z",
     "iopub.status.busy": "2021-12-21T17:35:36.818516Z",
     "iopub.status.idle": "2021-12-21T17:35:51.398880Z",
     "shell.execute_reply": "2021-12-21T17:35:51.398060Z",
     "shell.execute_reply.started": "2021-12-21T17:10:48.106549Z"
    },
    "papermill": {
     "duration": 14.632674,
     "end_time": "2021-12-21T17:35:51.399050",
     "exception": false,
     "start_time": "2021-12-21T17:35:36.766376",
     "status": "completed"
    },
    "tags": []
   },
   "outputs": [],
   "source": [
    "# because our dataset is imbalanced (yes/no imbalance, more days it doesn't rain) will use SMOTE to balance data\n",
    "smote_object = SMOTE()\n",
    "# now creating x and y\n",
    "X, y = smote_object.fit_resample(X, y)"
   ]
  },
  {
   "cell_type": "code",
   "execution_count": 257,
   "id": "c33e24e0",
   "metadata": {
    "execution": {
     "iopub.execute_input": "2021-12-21T17:35:51.493681Z",
     "iopub.status.busy": "2021-12-21T17:35:51.492978Z",
     "iopub.status.idle": "2021-12-21T17:35:51.578504Z",
     "shell.execute_reply": "2021-12-21T17:35:51.577961Z",
     "shell.execute_reply.started": "2021-12-21T17:11:06.655258Z"
    },
    "papermill": {
     "duration": 0.133785,
     "end_time": "2021-12-21T17:35:51.578664",
     "exception": false,
     "start_time": "2021-12-21T17:35:51.444879",
     "status": "completed"
    },
    "tags": []
   },
   "outputs": [],
   "source": [
    "# split the data into train and test\n",
    "X_train, X_test, y_train, y_test = train_test_split(X, y, test_size = 0.3, random_state = 0)"
   ]
  },
  {
   "cell_type": "markdown",
   "id": "be2aad5b",
   "metadata": {
    "papermill": {
     "duration": 0.045659,
     "end_time": "2021-12-21T17:35:51.670303",
     "exception": false,
     "start_time": "2021-12-21T17:35:51.624644",
     "status": "completed"
    },
    "tags": []
   },
   "source": [
    "# Random Forest Model\n",
    "\n",
    "Finally, we build our Random Forest Model. Here we have the luxury of using 200 trees, which is one of the reasons our accuracy rate has a relatively high degree of correctness. However, the Random Forest Model can be slow in generating predictions due to the sheer number of decision trees. This is because whenever a prediction is made, all the trees in the forest have to make a prediction for the same given input and then perform voting on it. \n",
    "\n",
    "For this specific report, that's totally fine, our dataset is small. But for large datasets that need to be processed quickly, a different algorithm or a smaller number of trees would need to be used."
   ]
  },
  {
   "cell_type": "code",
   "execution_count": 258,
   "id": "3790f0a0",
   "metadata": {
    "execution": {
     "iopub.execute_input": "2021-12-21T17:35:51.764451Z",
     "iopub.status.busy": "2021-12-21T17:35:51.763807Z",
     "iopub.status.idle": "2021-12-21T17:37:30.372644Z",
     "shell.execute_reply": "2021-12-21T17:37:30.373155Z",
     "shell.execute_reply.started": "2021-12-21T17:13:32.810674Z"
    },
    "papermill": {
     "duration": 98.658002,
     "end_time": "2021-12-21T17:37:30.373335",
     "exception": false,
     "start_time": "2021-12-21T17:35:51.715333",
     "status": "completed"
    },
    "tags": []
   },
   "outputs": [
    {
     "data": {
      "text/plain": [
       "RandomForestClassifier(n_estimators=400)"
      ]
     },
     "execution_count": 258,
     "metadata": {},
     "output_type": "execute_result"
    }
   ],
   "source": [
    "# model\n",
    "forest1 = RandomForestClassifier(n_estimators=400)\n",
    "\n",
    "# training the model\n",
    "forest1.fit(X_train, y_train)"
   ]
  },
  {
   "cell_type": "code",
   "execution_count": 259,
   "id": "6c684b39",
   "metadata": {
    "execution": {
     "iopub.execute_input": "2021-12-21T17:37:30.472300Z",
     "iopub.status.busy": "2021-12-21T17:37:30.471307Z",
     "iopub.status.idle": "2021-12-21T17:37:34.728517Z",
     "shell.execute_reply": "2021-12-21T17:37:34.729059Z",
     "shell.execute_reply.started": "2021-12-21T17:16:02.965948Z"
    },
    "papermill": {
     "duration": 4.309733,
     "end_time": "2021-12-21T17:37:34.729216",
     "exception": false,
     "start_time": "2021-12-21T17:37:30.419483",
     "status": "completed"
    },
    "tags": []
   },
   "outputs": [],
   "source": [
    "# predictions \n",
    "forest1_predictions = forest1.predict(X_test)"
   ]
  },
  {
   "cell_type": "code",
   "execution_count": 260,
   "id": "121c04f6",
   "metadata": {
    "execution": {
     "iopub.execute_input": "2021-12-21T17:37:34.821599Z",
     "iopub.status.busy": "2021-12-21T17:37:34.820922Z",
     "iopub.status.idle": "2021-12-21T17:37:34.831702Z",
     "shell.execute_reply": "2021-12-21T17:37:34.831174Z",
     "shell.execute_reply.started": "2021-12-21T17:22:49.716466Z"
    },
    "papermill": {
     "duration": 0.059033,
     "end_time": "2021-12-21T17:37:34.831823",
     "exception": false,
     "start_time": "2021-12-21T17:37:34.772790",
     "status": "completed"
    },
    "scrolled": true,
    "tags": []
   },
   "outputs": [
    {
     "name": "stdout",
     "output_type": "stream",
     "text": [
      "Accuracy: 90.48716067498165%\n"
     ]
    }
   ],
   "source": [
    "# check accuracy\n",
    "print(\"Accuracy: \" + str(metrics.accuracy_score(y_test, forest1_predictions)*100) +\"%\")"
   ]
  },
  {
   "cell_type": "markdown",
   "id": "22582943",
   "metadata": {
    "papermill": {
     "duration": 0.04489,
     "end_time": "2021-12-21T17:37:34.921843",
     "exception": false,
     "start_time": "2021-12-21T17:37:34.876953",
     "status": "completed"
    },
    "tags": []
   },
   "source": [
    "# Random Forest Feature Importance\n",
    "\n",
    "What's nice about the Random Forest module from the sklearn package is the built in attribute \"feature_importances_\". We'll use this to investigate which features are most helpful in classification, and which are not. "
   ]
  },
  {
   "cell_type": "code",
   "execution_count": 261,
   "id": "e1a5c4fb",
   "metadata": {
    "execution": {
     "iopub.execute_input": "2021-12-21T17:37:35.013021Z",
     "iopub.status.busy": "2021-12-21T17:37:35.012057Z",
     "iopub.status.idle": "2021-12-21T17:37:35.121011Z",
     "shell.execute_reply": "2021-12-21T17:37:35.121480Z",
     "shell.execute_reply.started": "2021-12-21T17:16:27.432486Z"
    },
    "papermill": {
     "duration": 0.156817,
     "end_time": "2021-12-21T17:37:35.121707",
     "exception": false,
     "start_time": "2021-12-21T17:37:34.964890",
     "status": "completed"
    },
    "tags": []
   },
   "outputs": [
    {
     "data": {
      "text/plain": [
       "Humidity3pm      0.146411\n",
       "Rainfall         0.113794\n",
       "Cloud3pm         0.076748\n",
       "Sunshine         0.062733\n",
       "Cloud9am         0.052166\n",
       "WindGustSpeed    0.049780\n",
       "Pressure3pm      0.048656\n",
       "Humidity9am      0.046394\n",
       "Pressure9am      0.041520\n",
       "Temp3pm          0.032088\n",
       "MinTemp          0.031683\n",
       "MaxTemp          0.031010\n",
       "Temp9am          0.029269\n",
       "WindSpeed3pm     0.028659\n",
       "Location         0.027197\n",
       "WindSpeed9am     0.026085\n",
       "day              0.023666\n",
       "Evaporation      0.022507\n",
       "WindGustDir      0.021620\n",
       "WindDir3pm       0.020311\n",
       "month            0.019960\n",
       "WindDir9am       0.018715\n",
       "year             0.018309\n",
       "RainToday        0.010721\n",
       "dtype: float64"
      ]
     },
     "execution_count": 261,
     "metadata": {},
     "output_type": "execute_result"
    }
   ],
   "source": [
    "feature_importance = pd.Series(forest1.feature_importances_,index=X.columns).sort_values(ascending=False)\n",
    "feature_importance"
   ]
  },
  {
   "cell_type": "code",
   "execution_count": 262,
   "id": "e9552769",
   "metadata": {
    "execution": {
     "iopub.execute_input": "2021-12-21T17:37:35.211557Z",
     "iopub.status.busy": "2021-12-21T17:37:35.210709Z",
     "iopub.status.idle": "2021-12-21T17:37:35.597159Z",
     "shell.execute_reply": "2021-12-21T17:37:35.597656Z",
     "shell.execute_reply.started": "2021-12-21T17:16:32.806625Z"
    },
    "papermill": {
     "duration": 0.432354,
     "end_time": "2021-12-21T17:37:35.597819",
     "exception": false,
     "start_time": "2021-12-21T17:37:35.165465",
     "status": "completed"
    },
    "tags": []
   },
   "outputs": [
    {
     "name": "stderr",
     "output_type": "stream",
     "text": [
      "No handles with labels found to put in legend.\n"
     ]
    },
    {
     "data": {
      "image/png": "[encoded data removed]",
      "text/plain": [
       "<Figure size 720x720 with 1 Axes>"
      ]
     },
     "metadata": {
      "needs_background": "light"
     },
     "output_type": "display_data"
    }
   ],
   "source": [
    "plt.rcParams[\"figure.figsize\"] = (10, 10)\n",
    "sns.barplot(x=feature_importance, y=feature_importance.index)\n",
    "# Add labels to your graph\n",
    "plt.xlabel('Feature Importance Score')\n",
    "plt.ylabel('Features')\n",
    "plt.title(\"Visualizing Important Features\")\n",
    "plt.legend()\n",
    "plt.show()"
   ]
  },
  {
   "cell_type": "code",
   "execution_count": 263,
   "id": "84c22a6e",
   "metadata": {
    "execution": {
     "iopub.execute_input": "2021-12-21T17:37:35.691725Z",
     "iopub.status.busy": "2021-12-21T17:37:35.690833Z",
     "iopub.status.idle": "2021-12-21T17:37:35.708718Z",
     "shell.execute_reply": "2021-12-21T17:37:35.709301Z",
     "shell.execute_reply.started": "2021-12-21T17:17:13.198743Z"
    },
    "papermill": {
     "duration": 0.065678,
     "end_time": "2021-12-21T17:37:35.709478",
     "exception": false,
     "start_time": "2021-12-21T17:37:35.643800",
     "status": "completed"
    },
    "tags": []
   },
   "outputs": [],
   "source": [
    "#RainToday, year, and WindDir9am will be dropped because they're under 0.02\n",
    "X = X.drop([\"RainToday\", \"year\", \"WindDir9am\"],axis = 1)"
   ]
  },
  {
   "cell_type": "code",
   "execution_count": 264,
   "id": "3eac07e4",
   "metadata": {
    "execution": {
     "iopub.execute_input": "2021-12-21T17:37:35.805258Z",
     "iopub.status.busy": "2021-12-21T17:37:35.804390Z",
     "iopub.status.idle": "2021-12-21T17:37:35.860538Z",
     "shell.execute_reply": "2021-12-21T17:37:35.861143Z",
     "shell.execute_reply.started": "2021-12-21T17:17:16.059075Z"
    },
    "papermill": {
     "duration": 0.105483,
     "end_time": "2021-12-21T17:37:35.861322",
     "exception": false,
     "start_time": "2021-12-21T17:37:35.755839",
     "status": "completed"
    },
    "tags": []
   },
   "outputs": [],
   "source": [
    "# split the updated data into train and test\n",
    "X_train_2, X_test_2, y_train_2, y_test_2 = train_test_split(X, y, test_size = 0.3, random_state = 0)"
   ]
  },
  {
   "cell_type": "markdown",
   "id": "0929cfd1",
   "metadata": {
    "papermill": {
     "duration": 0.0455,
     "end_time": "2021-12-21T17:37:35.954539",
     "exception": false,
     "start_time": "2021-12-21T17:37:35.909039",
     "status": "completed"
    },
    "tags": []
   },
   "source": [
    "# Random Forest Model With Feature Selection\n",
    "\n",
    "Next, we'll build a second Random Forest Model that only runs on the features deemed important once Feature Importance was analyzed. We can see that accuracy goes down from 90.5% to 90.4%. Thus we can conclude that while each feature has a differing level of helpfullness when it comes to determining whether it will rain tomorrow in Australia, it's still necessary to include ALL features in order to achieve the highest possible degree of accuracy."
   ]
  },
  {
   "cell_type": "code",
   "execution_count": 265,
   "id": "5adb33ff",
   "metadata": {
    "execution": {
     "iopub.execute_input": "2021-12-21T17:37:36.049265Z",
     "iopub.status.busy": "2021-12-21T17:37:36.048296Z",
     "iopub.status.idle": "2021-12-21T17:39:19.008132Z",
     "shell.execute_reply": "2021-12-21T17:39:19.008671Z",
     "shell.execute_reply.started": "2021-12-21T17:18:23.458695Z"
    },
    "papermill": {
     "duration": 103.008674,
     "end_time": "2021-12-21T17:39:19.008842",
     "exception": false,
     "start_time": "2021-12-21T17:37:36.000168",
     "status": "completed"
    },
    "tags": []
   },
   "outputs": [
    {
     "data": {
      "text/plain": [
       "RandomForestClassifier(n_estimators=400)"
      ]
     },
     "execution_count": 265,
     "metadata": {},
     "output_type": "execute_result"
    }
   ],
   "source": [
    "# trying a model with 100 trees first\n",
    "forest2 = RandomForestClassifier(n_estimators=400)\n",
    "\n",
    "# training the model\n",
    "forest2.fit(X_train_2, y_train_2)"
   ]
  },
  {
   "cell_type": "code",
   "execution_count": 266,
   "id": "88786b09",
   "metadata": {
    "execution": {
     "iopub.execute_input": "2021-12-21T17:39:19.107425Z",
     "iopub.status.busy": "2021-12-21T17:39:19.106767Z",
     "iopub.status.idle": "2021-12-21T17:39:23.308917Z",
     "shell.execute_reply": "2021-12-21T17:39:23.309364Z",
     "shell.execute_reply.started": "2021-12-21T17:20:59.118459Z"
    },
    "papermill": {
     "duration": 4.254252,
     "end_time": "2021-12-21T17:39:23.309563",
     "exception": false,
     "start_time": "2021-12-21T17:39:19.055311",
     "status": "completed"
    },
    "tags": []
   },
   "outputs": [],
   "source": [
    "# predictions \n",
    "forest2_predictions = forest2.predict(X_test_2)"
   ]
  },
  {
   "cell_type": "code",
   "execution_count": 267,
   "id": "ca669bca",
   "metadata": {
    "execution": {
     "iopub.execute_input": "2021-12-21T17:39:23.406843Z",
     "iopub.status.busy": "2021-12-21T17:39:23.406143Z",
     "iopub.status.idle": "2021-12-21T17:39:23.416144Z",
     "shell.execute_reply": "2021-12-21T17:39:23.416827Z",
     "shell.execute_reply.started": "2021-12-21T17:22:26.98397Z"
    },
    "papermill": {
     "duration": 0.060709,
     "end_time": "2021-12-21T17:39:23.417019",
     "exception": false,
     "start_time": "2021-12-21T17:39:23.356310",
     "status": "completed"
    },
    "tags": []
   },
   "outputs": [
    {
     "name": "stdout",
     "output_type": "stream",
     "text": [
      "Accuracy: 90.44754218635363%\n"
     ]
    }
   ],
   "source": [
    "# check accuracy\n",
    "print(\"Accuracy: \" + str(metrics.accuracy_score(y_test_2, forest2_predictions)*100) +\"%\")\n",
    "# accuracy went down -- can conclude that model is better with all of its features, \n",
    "# even the one with the lowest amount of feature importance"
   ]
  },
  {
   "cell_type": "code",
   "execution_count": null,
   "id": "2a63d528",
   "metadata": {},
   "outputs": [],
   "source": []
  },
  {
   "cell_type": "code",
   "execution_count": null,
   "id": "59b3ab9f",
   "metadata": {},
   "outputs": [],
   "source": []
  },
  {
   "cell_type": "code",
   "execution_count": null,
   "id": "61ea4bfc",
   "metadata": {},
   "outputs": [],
   "source": []
  }
 ],
 "metadata": {
  "kernelspec": {
   "display_name": "Python 3 (ipykernel)",
   "language": "python",
   "name": "python3"
  },
  "language_info": {
   "codemirror_mode": {
    "name": "ipython",
    "version": 3
   },
   "file_extension": ".py",
   "mimetype": "text/x-python",
   "name": "python",
   "nbconvert_exporter": "python",
   "pygments_lexer": "ipython3",
   "version": "3.9.7"
  },
  "papermill": {
   "default_parameters": {},
   "duration": 255.031611,
   "end_time": "2021-12-21T17:39:24.272292",
   "environment_variables": {},
   "exception": null,
   "input_path": "__notebook__.ipynb",
   "output_path": "__notebook__.ipynb",
   "parameters": {},
   "start_time": "2021-12-21T17:35:09.240681",
   "version": "2.3.3"
  }
 },
 "nbformat": 4,
 "nbformat_minor": 5
}
